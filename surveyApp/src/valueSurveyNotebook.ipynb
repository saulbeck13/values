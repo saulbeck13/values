{
 "cells": [
  {
   "cell_type": "code",
   "execution_count": 11,
   "metadata": {},
   "outputs": [],
   "source": [
    "from flask import Flask, render_template, request, redirect, url_for, session #Needed for web server\n",
    "from flask_basicauth import BasicAuth\n",
    "\n",
    "app = Flask(__name__)\n",
    "\n",
    "\n",
    "from flask_sqlalchemy import SQLAlchemy #Needed for web server\n",
    "import csv  #Needed for reading/saving the data\n",
    "import os  #Needed for reading/saving the data\n",
    "import random #Needed for randomizing the order of the questions\n"
   ]
  },
  {
   "cell_type": "code",
   "execution_count": 12,
   "metadata": {},
   "outputs": [],
   "source": [
    "app = Flask(__name__)\n",
    "app.secret_key = os.urandom(24)\n",
    "app.config['BASIC_AUTH_USERNAME'] = 'admin'\n",
    "app.config['BASIC_AUTH_PASSWORD'] = 'admin'\n",
    "\n",
    "basic_auth = BasicAuth(app)\n",
    "\n",
    "\n",
    "\n",
    "# Environment variables\n",
    "\n",
    "NUMBER_OF_QUESTIONS_PER_VALUE  = 1\n",
    "SURVEY_INTRODUCTION_TEXT = \"Welcome to the survey! Please answer the following questions to the best of your ability\"\n"
   ]
  },
  {
   "cell_type": "code",
   "execution_count": 13,
   "metadata": {},
   "outputs": [],
   "source": [
    "import csv\n",
    "import random\n",
    "\n",
    "def load_questions_from_csv(file_path):\n",
    "\n",
    "   \n",
    "    \n",
    "    # Initialize an empty list to store the questions\n",
    "    questions = []\n",
    "\n",
    "    # Initialize a set to store unique main values\n",
    "    main_values = set()\n",
    "\n",
    "    # Open the CSV file\n",
    "    with open(file_path, 'r') as file:\n",
    "        # Create a CSV reader object with '@' as the delimiter\n",
    "        # The CSV should have the following columns:\n",
    "        # - questionID\n",
    "        # - main_value\n",
    "        # - sub_value\n",
    "        # - story\n",
    "        reader = csv.DictReader(file, delimiter=\"@\")\n",
    "        \n",
    "        # Iterate over each row in the CSV file\n",
    "        for row in reader:\n",
    "            # Append the row (question) to the list of questions\n",
    "            questions.append(row)\n",
    "            \n",
    "            # Add the main value of the row to the set of main values\n",
    "            main_values.add(row['main_value'])\n",
    "\n",
    "    # Randomly select two questions for each main value\n",
    "    selected_questions = []\n",
    "    \n",
    "    # Iterate over each main value\n",
    "    for value in main_values:\n",
    "        # Filter the questions based on the current main value\n",
    "        value_questions = [q for q in questions if q['main_value'] == value]\n",
    "        \n",
    "        # Randomly select one question from the filtered questions\n",
    "        selected = random.sample(value_questions, NUMBER_OF_QUESTIONS_PER_VALUE)\n",
    "        \n",
    "        # Add the selected question to the list of selected questions\n",
    "        selected_questions.extend(selected)\n",
    "\n",
    "    # Return the list of selected questions\n",
    "    return selected_questions\n"
   ]
  },
  {
   "cell_type": "code",
   "execution_count": 14,
   "metadata": {},
   "outputs": [],
   "source": [
    "def save_survey_results_to_csv(file_path, results):\n",
    "    fieldnames = ['question_id', 'conservation', 'self_transcendence', 'openness_to_change', 'self_enhancement']\n",
    "\n",
    "    # Check if the file already exists\n",
    "    file_exists = os.path.isfile(file_path)\n",
    "\n",
    "    with open(file_path, 'a', newline='') as file:\n",
    "        writer = csv.DictWriter(file, fieldnames=fieldnames)\n",
    "\n",
    "        # Write the header only if the file doesn't exist\n",
    "        if not file_exists:\n",
    "            writer.writeheader()\n",
    "\n",
    "        writer.writerows(results)"
   ]
  },
  {
   "attachments": {},
   "cell_type": "markdown",
   "metadata": {},
   "source": [
    "Below is the code for the survey, in this version 4 values are tracked and recorded for the survey\n",
    "    Conservation\n",
    "    Openness to change\n",
    "    Self Enhancement\n",
    "    Self Transcendence\n",
    "\n",
    "    To change the values the templates/survey.html page must also be changed"
   ]
  },
  {
   "cell_type": "code",
   "execution_count": 15,
   "metadata": {},
   "outputs": [],
   "source": [
    "@app.route('/admin')\n",
    "@basic_auth.required\n",
    "def secret_view():\n",
    "    return render_template('admin.html')\n"
   ]
  },
  {
   "cell_type": "code",
   "execution_count": 16,
   "metadata": {},
   "outputs": [],
   "source": [
    "@app.route('/survey', methods=['GET', 'POST'])\n",
    "def survey():\n",
    "    if 'current_question' not in session:\n",
    "        session['current_question'] = 0\n",
    "\n",
    "    if 'survey_results' not in session:\n",
    "        session['survey_results'] = []\n",
    "\n",
    "    questions = load_questions_from_csv('question_bank/questions.csv')\n",
    "    current_question = session['current_question']\n",
    "    survey_results = session['survey_results']\n",
    "\n",
    "    if request.method == 'POST':\n",
    "        # Process the submitted survey form and store the ratings\n",
    "        question_id = request.form['question_id']\n",
    "        conservation_rating = request.form['conservation']\n",
    "        self_transcendence_rating = request.form['self_transcendence']\n",
    "        openness_to_change_rating = request.form['openness_to_change']\n",
    "        self_enhancement_rating = request.form['self_enhancement']\n",
    "\n",
    "        # Store the question_id and rating as desired\n",
    "        survey_results.append({\n",
    "            'question_id': question_id,\n",
    "            'conservation': conservation_rating,\n",
    "            'self_transcendence': self_transcendence_rating,\n",
    "            'openness_to_change': openness_to_change_rating,\n",
    "            'self_enhancement': self_enhancement_rating\n",
    "        })\n",
    "\n",
    "        if current_question == len(questions) - 1:\n",
    "            # If the last question has been answered, show the thank you page\n",
    "            save_survey_results_to_csv('survey_results.csv', survey_results)\n",
    "            session.pop('survey_results')  # Remove survey results from session\n",
    "            return redirect(url_for('thank_you'))\n",
    "        else:\n",
    "            # After processing the submission, increment the current question\n",
    "            session['current_question'] += 1\n",
    "            return redirect(url_for('survey'))\n",
    "\n",
    "    else:\n",
    "        if current_question < 0:\n",
    "            current_question = 0\n",
    "        elif current_question >= len(questions):\n",
    "            # If the current question exceeds the question count, redirect to the last question\n",
    "            return redirect(url_for('survey'))\n",
    "\n",
    "        question = questions[current_question]\n",
    "        print(question) \n",
    "\n",
    "        # Render the survey page with the current question\n",
    "        return render_template('survey.html', random_question=question)"
   ]
  },
  {
   "cell_type": "code",
   "execution_count": 17,
   "metadata": {},
   "outputs": [],
   "source": [
    "@app.route('/', methods=['GET', 'POST'])\n",
    "def index():\n",
    "\n",
    "    session['survey_text'] = SURVEY_INTRODUCTION_TEXT\n",
    "    \n",
    "    #If they click the button to start the survey, then redirect them to the survey page\n",
    "    \n",
    "    if request.method == 'POST':\n",
    "        return redirect(url_for('survey'))\n",
    "    \n",
    "\n",
    "    return render_template('index.html')"
   ]
  },
  {
   "cell_type": "code",
   "execution_count": 18,
   "metadata": {},
   "outputs": [],
   "source": [
    "@app.route('/thank_you')\n",
    "def thank_you():\n",
    "    return render_template('thank_you.html', survey_results=session.get('survey_results', []))\n"
   ]
  },
  {
   "cell_type": "code",
   "execution_count": 19,
   "metadata": {},
   "outputs": [],
   "source": [
    "@app.route('/admin', methods=['GET', 'POST'])\n",
    "def admin_panel():\n",
    "    if request.method == 'POST':\n",
    "        # Process the admin form submission\n",
    "        # You can add your own logic here to handle admin actions\n",
    "        return redirect(url_for('admin_panel'))\n",
    "    else:\n",
    "        # Render the admin panel template\n",
    "        return render_template('admin_panel.html')\n"
   ]
  },
  {
   "cell_type": "code",
   "execution_count": 20,
   "metadata": {},
   "outputs": [
    {
     "name": "stdout",
     "output_type": "stream",
     "text": [
      " * Serving Flask app '__main__'\n",
      " * Debug mode: off\n"
     ]
    },
    {
     "name": "stderr",
     "output_type": "stream",
     "text": [
      "WARNING: This is a development server. Do not use it in a production deployment. Use a production WSGI server instead.\n",
      " * Running on http://127.0.0.1:5000\n",
      "Press CTRL+C to quit\n",
      "127.0.0.1 - - [07/Jul/2023 14:19:06] \"GET / HTTP/1.1\" 200 -\n",
      "127.0.0.1 - - [07/Jul/2023 14:19:07] \"GET /survey HTTP/1.1\" 200 -\n"
     ]
    },
    {
     "name": "stdout",
     "output_type": "stream",
     "text": [
      "{'id': '5', 'main_value': 'conservation', 'sub_value': 'Security-Societal', 'story': \"The office of salesperson John Smith was bustling with activity. He had been in the business for nearly a decade and was well known for his commitment to the security and stability of his country. He had grown up in a small town, where the people were proud of their country and its ideals. John was passionate about his job and made sure that he was always up to date on the latest trends in the market. He was constantly looking for ways to increase sales and provide better customer service. He worked diligently to ensure that his clients were satisfied with their purchases and that their money was well spent.John was a firm believer in the importance of his country's security and stability. He was well aware of the threats that existed and was always on the lookout for any potential issues that could affect the safety of his customers. He was also a strong advocate for the protection of the environment and was always looking for ways to reduce waste and conserve resources.John was also passionate about the people of his country and was always looking for ways to help them. He was a firm believer in the importance of education and was always pushing for better educational opportunities for those who needed them. He was also a strong supporter of charities and was always willing to donate his time and money to help those in need.John was a strong believer in the importance of his country's security and stability. He was always looking for ways to improve the safety and stability of the country and its people. He was a firm believer in the power of communication and was always looking for ways to ensure that everyone was informed about the latest developments and news.John's commitment to his country's security and stability was evident in his actions and interactions within the workplace. He was always willing to go the extra mile to ensure that his clients were satisfied and that their money was well spent. He was also a strong advocate for the protection of the environment and was always looking for ways to reduce waste and conserve resources.John was a firm believer in the importance of his country's security and stability and this belief had a profound impact on his decisions, actions, and interactions within the workplace.\"}\n"
     ]
    },
    {
     "name": "stderr",
     "output_type": "stream",
     "text": [
      "127.0.0.1 - - [07/Jul/2023 14:19:10] \"POST /survey HTTP/1.1\" 302 -\n",
      "127.0.0.1 - - [07/Jul/2023 14:19:10] \"GET /survey HTTP/1.1\" 200 -\n"
     ]
    },
    {
     "name": "stdout",
     "output_type": "stream",
     "text": [
      "{'id': '12', 'main_value': 'openness_to_change', 'sub_value': 'Stimulation', 'story': \"John had been working in the sales office for over three years. He had started out as a junior salesperson, but had worked his way up to be one of the top performers in the office. He was always looking for new ways to make sales, and he was always looking for different things to do. He felt that it was important to stay ahead of the curve and to be able to adapt to changing markets. He was always looking for new ideas and ways to make sales. John had a lot of success in the office. He was always looking for new ways to make sales and he was always willing to try new things. He was always willing to take risks and to experiment with different strategies. He was always looking for ways to improve and to make the most of the opportunities that were presented to him. John's colleagues respected him for his willingness to try new things. They knew that he was always looking for different things to do and that he was willing to take risks. They also admired him for his dedication to his job and his commitment to making the most of his opportunities. John was also a great mentor. He was always willing to share his knowledge and experience with his colleagues. He was always looking for ways to help them improve and to make the most of the opportunities that were available to them. John's belief that it was important to always look for different things to do had a huge impact on his success in the office. He was always looking for new ways to make sales and he was always willing to take risks. His colleagues respected him for his willingness to try new things and for his dedication to his job. He was an example to everyone in the office of what it means to be a successful salesperson.\"}\n"
     ]
    },
    {
     "name": "stderr",
     "output_type": "stream",
     "text": [
      "127.0.0.1 - - [07/Jul/2023 14:19:14] \"POST /survey HTTP/1.1\" 302 -\n",
      "127.0.0.1 - - [07/Jul/2023 14:19:14] \"GET /survey HTTP/1.1\" 200 -\n"
     ]
    },
    {
     "name": "stdout",
     "output_type": "stream",
     "text": [
      "{'id': '8', 'main_value': 'self_enhancement', 'sub_value': 'Power-Dominance', 'story': \"John had been working in the sales office for almost three years now. He had started off as a junior salesperson, but had quickly worked his way up to a senior position. He believed that if he was in charge of the office, he could ensure that everything ran smoothly and efficiently. He was also confident that his leadership would lead to greater success and higher profits. John's approach to managing the office was to be strict and demanding. He expected all of his employees to follow his rules and to adhere to his expectations. If anyone failed to comply, they were quickly reprimanded and reminded of their place. John was also known for being quite aggressive when it came to selling. He was not afraid to push his clients to buy more and to offer discounts to close the deal. He was confident that this approach would lead to higher sales figures and greater profits. However, John's approach to managing the office and selling had not gone down well with everyone. Some of his colleagues felt that he was too authoritarian and that his aggressive sales tactics were not in the best interests of the company. John was also known for being quite unapproachable and distant. He rarely engaged in conversations with his colleagues and was not interested in their opinions or ideas. Despite this, John's approach had been successful. The sales figures had increased significantly since he had taken over and the profits had also risen. John was proud of his achievements and was determined to continue his approach. He was confident that his methods would continue to lead to success and that his colleagues would eventually come around to his way of thinking. John was a firm believer that it was important to dominate over other people and dictate rules. His approach had been successful so far, but he was aware that his methods could be seen as harsh and unapproachable. Despite this, he was determined to continue his approach and to ensure that the office ran as efficiently as possible.\"}\n"
     ]
    },
    {
     "name": "stderr",
     "output_type": "stream",
     "text": [
      "127.0.0.1 - - [07/Jul/2023 14:19:19] \"POST /survey HTTP/1.1\" 302 -\n",
      "127.0.0.1 - - [07/Jul/2023 14:19:19] \"GET /survey HTTP/1.1\" 200 -\n"
     ]
    },
    {
     "name": "stdout",
     "output_type": "stream",
     "text": [
      "{'id': '2', 'main_value': 'self_transcendence', 'sub_value': 'Universilism-Nature', 'story': \"The sales office was buzzing with activity as the team prepared for the upcoming quarter. Among the salespeople, there was one who stood out. Her name was Jennifer, and she was a passionate advocate for defending nature. Jennifer was deeply committed to doing her part to protect the environment, and that was reflected in her work. Whenever she had the opportunity, she took part in activities to defend nature. She volunteered for beach cleanups, attended rallies, and even organized her own campaigns to raise awareness about the importance of preserving natural resources. At the office, she was a role model for her colleagues. She encouraged them to reduce their carbon footprint by taking public transportation, recycling, and using reusable containers for lunches. She also encouraged them to participate in activities to defend nature. She organized trips to the beach to clean up plastic and debris, and she even planned hikes to help her team appreciate the beauty of nature. Jennifer's commitment to defending nature also had an impact on her sales performance. She worked hard to ensure that the products she sold were environmentally friendly. She researched the materials used in each product, and she only sold those that were made with sustainable resources. She also made sure that the companies she represented followed ethical practices, such as reducing their carbon emissions and supporting local communities. Jennifer's commitment to defending nature was inspiring to her colleagues. They saw her dedication and admired her for it. They began to follow her example, and soon the entire sales office was doing its part to protect the environment. Jennifer was proud of the impact she had made. She knew that she had done her part to defend nature, and she was confident that her team would continue to do the same. She was happy to have made a difference, and she hoped that her example would inspire others to do the same.\"}\n"
     ]
    },
    {
     "name": "stderr",
     "output_type": "stream",
     "text": [
      "127.0.0.1 - - [07/Jul/2023 14:19:23] \"POST /survey HTTP/1.1\" 302 -\n",
      "127.0.0.1 - - [07/Jul/2023 14:19:23] \"GET /thank_you HTTP/1.1\" 200 -\n"
     ]
    }
   ],
   "source": [
    "if __name__ == \"__main__\":\n",
    "  app.debug = False\n",
    "  app.run()"
   ]
  }
 ],
 "metadata": {
  "kernelspec": {
   "display_name": "Python 3",
   "language": "python",
   "name": "python3"
  },
  "language_info": {
   "codemirror_mode": {
    "name": "ipython",
    "version": 3
   },
   "file_extension": ".py",
   "mimetype": "text/x-python",
   "name": "python",
   "nbconvert_exporter": "python",
   "pygments_lexer": "ipython3",
   "version": "3.11.2"
  },
  "orig_nbformat": 4
 },
 "nbformat": 4,
 "nbformat_minor": 2
}
