{
 "cells": [
  {
   "cell_type": "code",
   "execution_count": 9,
   "metadata": {},
   "outputs": [],
   "source": [
    "import openai\n",
    "import json"
   ]
  },
  {
   "attachments": {},
   "cell_type": "markdown",
   "metadata": {},
   "source": [
    "## API Preparation"
   ]
  },
  {
   "attachments": {},
   "cell_type": "markdown",
   "metadata": {},
   "source": [
    "Obtain the OpenAI API key from https://platform.openai.com/account/api-keys"
   ]
  },
  {
   "cell_type": "code",
   "execution_count": 10,
   "metadata": {},
   "outputs": [],
   "source": [
    "openai.api_key = \"API_KEY\""
   ]
  },
  {
   "attachments": {},
   "cell_type": "markdown",
   "metadata": {},
   "source": [
    "Read values from a json file."
   ]
  },
  {
   "cell_type": "code",
   "execution_count": 11,
   "metadata": {},
   "outputs": [],
   "source": [
    "with open(\"values.json\", 'r') as values_file:\n",
    "    values = json.load(values_file)\n",
    "values = values[\"values\"]"
   ]
  },
  {
   "attachments": {},
   "cell_type": "markdown",
   "metadata": {},
   "source": [
    "## Story Generation"
   ]
  },
  {
   "attachments": {},
   "cell_type": "markdown",
   "metadata": {},
   "source": [
    "A method that outputs a general prompt, used to generate the moral stories."
   ]
  },
  {
   "cell_type": "code",
   "execution_count": 12,
   "metadata": {},
   "outputs": [],
   "source": [
    "def get_general_prompt(value):\n",
    "    general_prompt = f\"Write a 400 word story set in a sales office where a salesperson believes that it is important to {value}. The story should showcase how this belief influences their decisions, actions, and interactions within the workplace. The reading age should be 18-25\"\n",
    "    return general_prompt"
   ]
  },
  {
   "attachments": {},
   "cell_type": "markdown",
   "metadata": {},
   "source": [
    "Call the OpenAI API to generate the stories."
   ]
  },
  {
   "cell_type": "code",
   "execution_count": 13,
   "metadata": {},
   "outputs": [],
   "source": [
    "def generate_story(prompt):\n",
    "    # The parameters for the model can be adjusted\n",
    "    # for a better result\n",
    "    generated_story = openai.Completion.create(\n",
    "        model=\"text-davinci-003\",\n",
    "        prompt=prompt,\n",
    "        max_tokens=550,\n",
    "        temperature=0.5\n",
    "    )\n",
    "\n",
    "    return generated_story.choices[0].text.strip()"
   ]
  },
  {
   "attachments": {},
   "cell_type": "markdown",
   "metadata": {},
   "source": [
    "Loop through the human values and generate a story for each of them."
   ]
  },
  {
   "cell_type": "code",
   "execution_count": 14,
   "metadata": {},
   "outputs": [
    {
     "name": "stdout",
     "output_type": "stream",
     "text": [
      "Story number 0\n",
      "['The sales office was bustling with activity as usual, with the sales team working hard to close deals and make their targets for the month.\\n\\nMark was a salesperson in the office and he was known for his hard work and dedication. He was always willing to put in the extra effort to get the job done. But what set him apart from the rest of the team was his philosophy that it was important to be satisfied with what he had and not to ask for more.\\n\\nMark believed that if he was content with what he had, then he would be able to focus more on his work and be more productive. He also believed that asking for more could lead to a feeling of entitlement and a lack of appreciation for what he already had.\\n\\nThis belief influenced his decisions, actions and interactions in the workplace. He was always willing to help out his colleagues and share his knowledge and experience with them. He was also generous with his time and often stayed late to help out with projects.\\n\\nMark was also careful not to take on more than he could handle. He knew that if he spread himself too thin, he wouldn’t be able to give his best to any of his tasks. He was also careful not to ask for too much from his colleagues or his boss. He believed that if he showed respect and appreciation for what he already had, then he would be more likely to get what he asked for.\\n\\nMark was a great asset to the team and he was often praised for his attitude and work ethic. His colleagues respected him for his beliefs and his dedication to his work.\\n\\nMark’s philosophy was simple but effective. He believed that if he was content with what he had, then he could focus on what was important and make the most of his opportunities. He was a great example to his colleagues and his boss, showing them that it was possible to be satisfied with what you had and still be successful.']\n"
     ]
    }
   ],
   "source": [
    "stories = []\n",
    "for i, value in enumerate(values):\n",
    "    value = value.lower()\n",
    "    prompt = get_general_prompt(value)\n",
    "    story = generate_story(prompt)\n",
    "    stories.append(story)\n",
    "    print(f\"Story number {i}\")\n",
    "    \n",
    "print(stories)"
   ]
  },
  {
   "attachments": {},
   "cell_type": "markdown",
   "metadata": {},
   "source": [
    "## Stories Extraction"
   ]
  },
  {
   "attachments": {},
   "cell_type": "markdown",
   "metadata": {},
   "source": [
    "Extract the generated stories into a json file."
   ]
  },
  {
   "cell_type": "code",
   "execution_count": 15,
   "metadata": {},
   "outputs": [],
   "source": [
    "num = 0\n",
    "json_data = {f\"{values[i]}\": story for i, story in enumerate(stories)}\n",
    "with open(\"additional_story.json\", 'w') as json_file:\n",
    "    json.dump(json_data, json_file, indent=4)"
   ]
  }
 ],
 "metadata": {
  "kernelspec": {
   "display_name": "Python 3",
   "language": "python",
   "name": "python3"
  },
  "language_info": {
   "codemirror_mode": {
    "name": "ipython",
    "version": 3
   },
   "file_extension": ".py",
   "mimetype": "text/x-python",
   "name": "python",
   "nbconvert_exporter": "python",
   "pygments_lexer": "ipython3",
   "version": "3.10.7"
  },
  "orig_nbformat": 4
 },
 "nbformat": 4,
 "nbformat_minor": 2
}
