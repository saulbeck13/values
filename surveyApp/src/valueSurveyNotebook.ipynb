{
 "cells": [
  {
   "cell_type": "code",
   "execution_count": 1,
   "metadata": {},
   "outputs": [],
   "source": [
    "from flask import Flask, render_template, request, redirect, url_for, session #Needed for web server\n",
    "import csv  #Needed for reading/saving the data\n",
    "import os  #Needed for reading/saving the data\n",
    "import random #Needed for randomizing the order of the questions"
   ]
  },
  {
   "cell_type": "code",
   "execution_count": 2,
   "metadata": {},
   "outputs": [],
   "source": [
    "app = Flask(__name__)\n",
    "app.secret_key = os.urandom(24)"
   ]
  },
  {
   "cell_type": "code",
   "execution_count": 3,
   "metadata": {},
   "outputs": [],
   "source": [
    "import csv\n",
    "import random\n",
    "\n",
    "def load_questions_from_csv(file_path):\n",
    "\n",
    "    NUMBER_OF_QUESTIONS_PER_VALUE = 2\n",
    "    \n",
    "    # Initialize an empty list to store the questions\n",
    "    questions = []\n",
    "\n",
    "    # Initialize a set to store unique main values\n",
    "    main_values = set()\n",
    "\n",
    "    # Open the CSV file\n",
    "    with open(file_path, 'r') as file:\n",
    "        # Create a CSV reader object with '@' as the delimiter\n",
    "        # The CSV should have the following columns:\n",
    "        # - questionID\n",
    "        # - main_value\n",
    "        # - sub_value\n",
    "        # - story\n",
    "        reader = csv.DictReader(file, delimiter=\"@\")\n",
    "        \n",
    "        # Iterate over each row in the CSV file\n",
    "        for row in reader:\n",
    "            # Append the row (question) to the list of questions\n",
    "            questions.append(row)\n",
    "            \n",
    "            # Add the main value of the row to the set of main values\n",
    "            main_values.add(row['main_value'])\n",
    "\n",
    "    # Randomly select two questions for each main value\n",
    "    selected_questions = []\n",
    "    \n",
    "    # Iterate over each main value\n",
    "    for value in main_values:\n",
    "        # Filter the questions based on the current main value\n",
    "        value_questions = [q for q in questions if q['main_value'] == value]\n",
    "        \n",
    "        # Randomly select one question from the filtered questions\n",
    "        selected = random.sample(value_questions, NUMBER_OF_QUESTIONS_PER_VALUE)\n",
    "        \n",
    "        # Add the selected question to the list of selected questions\n",
    "        selected_questions.extend(selected)\n",
    "\n",
    "    # Return the list of selected questions\n",
    "    return selected_questions\n"
   ]
  },
  {
   "cell_type": "code",
   "execution_count": 4,
   "metadata": {},
   "outputs": [],
   "source": [
    "def save_survey_results_to_csv(file_path, results):\n",
    "    fieldnames = ['question_id', 'conservation', 'self_transcendence', 'openness_to_change', 'self_enhancement']\n",
    "\n",
    "    # Check if the file already exists\n",
    "    file_exists = os.path.isfile(file_path)\n",
    "\n",
    "    with open(file_path, 'a', newline='') as file:\n",
    "        writer = csv.DictWriter(file, fieldnames=fieldnames)\n",
    "\n",
    "        # Write the header only if the file doesn't exist\n",
    "        if not file_exists:\n",
    "            writer.writeheader()\n",
    "\n",
    "        writer.writerows(results)"
   ]
  },
  {
   "attachments": {},
   "cell_type": "markdown",
   "metadata": {},
   "source": [
    "Below is the code for the survey, in this version 4 values are tracked and recorded for the survey\n",
    "    Conservation\n",
    "    Openness to change\n",
    "    Self Enhancement\n",
    "    Self Transcendence\n",
    "\n",
    "    To change the values the templates/survey.html page must also be changed"
   ]
  },
  {
   "cell_type": "code",
   "execution_count": null,
   "metadata": {},
   "outputs": [],
   "source": [
    "# Route for the survey page\n",
    "@app.route('/', methods=['GET', 'POST'])\n",
    "def survey():\n",
    "    # Check if 'current_question' is not in the session and initialize it to 0\n",
    "    if 'current_question' not in session:\n",
    "        session['current_question'] = 0\n",
    "\n",
    "    # Check if 'survey_results' is not in the session and initialize it as an empty list\n",
    "    if 'survey_results' not in session:\n",
    "        session['survey_results'] = []\n",
    "\n",
    "    # Load questions from CSV file\n",
    "    questions = load_questions_from_csv('question_bank/questions.csv')\n",
    "\n",
    "    # Get the current question and survey results from the session\n",
    "    current_question = session['current_question']\n",
    "    survey_results = session['survey_results']\n",
    "\n",
    "    if request.method == 'POST':\n",
    "\n",
    "        # Get the values from the submitted form\n",
    "        question_id = request.form['question_id']\n",
    "        conservation_rating = request.form['conservation']\n",
    "        self_transcendence_rating = request.form['self_transcendence']\n",
    "        openness_to_change_rating = request.form['openness_to_change']\n",
    "        self_enhancement_rating = request.form['self_enhancement']\n",
    "\n",
    "        # Store the question_id and ratings in the survey_results list\n",
    "        survey_results.append({\n",
    "            'question_id': question_id,\n",
    "            'conservation': conservation_rating,\n",
    "            'self_transcendence': self_transcendence_rating,\n",
    "            'openness_to_change': openness_to_change_rating,\n",
    "            'self_enhancement': self_enhancement_rating\n",
    "        })\n",
    "\n",
    "        if current_question == len(questions) - 1:\n",
    "            # If the last question has been answered, save the survey results to a CSV file,\n",
    "            # remove survey_results from the session, and redirect to the thank you page\n",
    "            save_survey_results_to_csv('survey_results.csv', survey_results)\n",
    "            session.pop('survey_results')\n",
    "            return redirect(url_for('thank_you'))\n",
    "        else:\n",
    "            # After processing the submission, increment the current question and redirect back to the survey page\n",
    "            session['current_question'] += 1\n",
    "            return redirect(url_for('survey'))\n",
    "\n",
    "    else:\n",
    "        if current_question < 0:\n",
    "            # Ensure current_question is not negative\n",
    "            current_question = 0\n",
    "        elif current_question >= len(questions):\n",
    "            # If the current question exceeds the question count, redirect to the last question\n",
    "            return redirect(url_for('survey'))\n",
    "\n",
    "        # Retrieve the current question\n",
    "        question = questions[current_question]\n",
    "        print(question)\n",
    "\n",
    "        # Render the survey page with the current question\n",
    "        return render_template('survey.html', random_question=question)\n"
   ]
  },
  {
   "cell_type": "code",
   "execution_count": 6,
   "metadata": {},
   "outputs": [],
   "source": [
    "@app.route('/thank_you')\n",
    "def thank_you():\n",
    "    return render_template('thank_you.html', survey_results=session.get('survey_results', []))\n"
   ]
  },
  {
   "cell_type": "code",
   "execution_count": 7,
   "metadata": {},
   "outputs": [
    {
     "name": "stdout",
     "output_type": "stream",
     "text": [
      " * Serving Flask app '__main__'\n",
      " * Debug mode: off\n"
     ]
    },
    {
     "name": "stderr",
     "output_type": "stream",
     "text": [
      "WARNING: This is a development server. Do not use it in a production deployment. Use a production WSGI server instead.\n",
      " * Running on http://127.0.0.1:5000\n",
      "Press CTRL+C to quit\n",
      "127.0.0.1 - - [06/Jul/2023 13:08:07] \"GET / HTTP/1.1\" 200 -\n"
     ]
    },
    {
     "name": "stdout",
     "output_type": "stream",
     "text": [
      "{'id': '12', 'main_value': 'openness_to_change', 'sub_value': 'Stimulation', 'story': \"John had been working in the sales office for over three years. He had started out as a junior salesperson, but had worked his way up to be one of the top performers in the office. He was always looking for new ways to make sales, and he was always looking for different things to do. He felt that it was important to stay ahead of the curve and to be able to adapt to changing markets. He was always looking for new ideas and ways to make sales. John had a lot of success in the office. He was always looking for new ways to make sales and he was always willing to try new things. He was always willing to take risks and to experiment with different strategies. He was always looking for ways to improve and to make the most of the opportunities that were presented to him. John's colleagues respected him for his willingness to try new things. They knew that he was always looking for different things to do and that he was willing to take risks. They also admired him for his dedication to his job and his commitment to making the most of his opportunities. John was also a great mentor. He was always willing to share his knowledge and experience with his colleagues. He was always looking for ways to help them improve and to make the most of the opportunities that were available to them. John's belief that it was important to always look for different things to do had a huge impact on his success in the office. He was always looking for new ways to make sales and he was always willing to take risks. His colleagues respected him for his willingness to try new things and for his dedication to his job. He was an example to everyone in the office of what it means to be a successful salesperson.\"}\n"
     ]
    }
   ],
   "source": [
    "if __name__ == \"__main__\":\n",
    "  app.debug = False\n",
    "  app.run()"
   ]
  }
 ],
 "metadata": {
  "kernelspec": {
   "display_name": "Python 3",
   "language": "python",
   "name": "python3"
  },
  "language_info": {
   "codemirror_mode": {
    "name": "ipython",
    "version": 3
   },
   "file_extension": ".py",
   "mimetype": "text/x-python",
   "name": "python",
   "nbconvert_exporter": "python",
   "pygments_lexer": "ipython3",
   "version": "3.11.2"
  },
  "orig_nbformat": 4
 },
 "nbformat": 4,
 "nbformat_minor": 2
}
